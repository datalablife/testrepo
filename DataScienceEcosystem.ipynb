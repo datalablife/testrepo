{
 "cells": [
  {
   "cell_type": "markdown",
   "id": "35962322-dd60-4a20-9217-823b309367c9",
   "metadata": {
    "tags": []
   },
   "source": [
    "# 2-title.png"
   ]
  },
  {
   "cell_type": "markdown",
   "id": "a2a8f287-947c-493c-aaeb-2faebd98757b",
   "metadata": {},
   "source": [
    "In this notebook, Data Science Tools and Ecosystem are summarized."
   ]
  },
  {
   "cell_type": "markdown",
   "id": "1b563580-27ce-490a-84b7-9f8898cc7ea8",
   "metadata": {},
   "source": [
    "Some of the popular languages that Data Scientists use are:\n",
    "<ol>\n",
    "<li>Python.</li>\n",
    "<li>R.</li>\n",
    "<li>SQL.</li>\n",
    "<li>JAVA.</li>\n",
    "<li>Julia.</li>\n",
    "<li>Scala.</li>\n",
    "<li>C/C++.</li>\n",
    "<li>JavaScript.</li>\n",
    "</ol>"
   ]
  },
  {
   "cell_type": "markdown",
   "id": "2756c43f-ce92-4d70-a688-c06b4fa43da1",
   "metadata": {
    "tags": []
   },
   "source": [
    "Some of the commonly used libraries used by Data Scientists include:\n",
    "<ol>\n",
    "<li>TensorFlow.</li>\n",
    "<li>NumPy.</li>\n",
    "<li>Pandas.</li>\n",
    "<li>Matplotlib.</li>\n",
    "<li>Keras.</li>\n",
    "<li>Scala.</li>\n",
    "<li>SciKit-Learn.</li>\n",
    "<li>PyTorch.</li>\n",
    "</ol>"
   ]
  },
  {
   "cell_type": "markdown",
   "id": "301a11ed-32dd-4c08-ac2d-c55a74817992",
   "metadata": {},
   "source": [
    "Data Science Tools:\n",
    "\n",
    "<table style=\"width:100%\">\n",
    "  <tr>\n",
    "    <th>Data Science Tools</th>\n",
    "    <th></th>\n",
    "    <th></th>\n",
    "  </tr>\n",
    "  <tr>\n",
    "    <td>SAS. It is one of those data science tools which are specifically designed for statistical operation</td>\n",
    "    <td></td>\n",
    "    <td></td>\n",
    "  </tr>\n",
    "  <tr>\n",
    "    <td>Apache Spark</td>\n",
    "    <td></td>\n",
    "    <td></td>\n",
    "  </tr>\n",
    "  <tr>\n",
    "    <td>BigML</td>\n",
    "    <td></td>\n",
    "    <td></td>\n",
    "  </tr>\n",
    "</table>\n"
   ]
  },
  {
   "cell_type": "markdown",
   "id": "e9719f89-c1e7-4bbf-9d11-d3987ad256e7",
   "metadata": {},
   "source": [
    "<h3>Below are a few examples of evaluating arithmetic expressions in Python</h3>"
   ]
  },
  {
   "cell_type": "code",
   "execution_count": 6,
   "id": "cc67d9c1-7ad9-4270-89d1-6c223780c0b0",
   "metadata": {
    "tags": []
   },
   "outputs": [
    {
     "data": {
      "text/plain": [
       "24"
      ]
     },
     "execution_count": 6,
     "metadata": {},
     "output_type": "execute_result"
    }
   ],
   "source": [
    "# Arithmetic operations\n",
    "code = compile(\"18 + 6\", \"<string>\", \"eval\")\n",
    "eval(code)\n",
    "# Result: 24"
   ]
  },
  {
   "cell_type": "code",
   "execution_count": 8,
   "id": "678e0b7f-cca0-4a0b-95a1-a7b351fe1efb",
   "metadata": {
    "tags": []
   },
   "outputs": [
    {
     "data": {
      "text/plain": [
       "30"
      ]
     },
     "execution_count": 8,
     "metadata": {},
     "output_type": "execute_result"
    }
   ],
   "source": [
    "code1 = compile(\"(8 + 7) * 2\", \"<string>\", \"eval\")\n",
    "eval(code1)\n",
    "# Result: 30"
   ]
  },
  {
   "cell_type": "code",
   "execution_count": 10,
   "id": "eaf238a5-c59c-4950-baae-a8829fd5fa06",
   "metadata": {
    "tags": []
   },
   "outputs": [
    {
     "data": {
      "text/plain": [
       "130899.6938995747"
      ]
     },
     "execution_count": 10,
     "metadata": {},
     "output_type": "execute_result"
    }
   ],
   "source": [
    "import math\n",
    "# Volume of a sphere\n",
    "code2 = compile(\"8 / 3 * math.pi * math.pow(25, 3)\", \"<string>\", \"eval\")\n",
    "eval(code2)\n",
    "# Result: 130899.6938995747"
   ]
  },
  {
   "cell_type": "markdown",
   "id": "71f25656-e3cf-4386-b44a-dbd1e7e17e3f",
   "metadata": {
    "tags": []
   },
   "source": [
    "This a simple arithmetic expression to mutiply then add integers"
   ]
  },
  {
   "cell_type": "code",
   "execution_count": 12,
   "id": "67ae8076-25f6-4970-ae4a-f2425d51fa3c",
   "metadata": {
    "tags": []
   },
   "outputs": [
    {
     "data": {
      "text/plain": [
       "17"
      ]
     },
     "execution_count": 12,
     "metadata": {},
     "output_type": "execute_result"
    }
   ],
   "source": [
    "(3*4)+5\n",
    "# Result: 17"
   ]
  },
  {
   "cell_type": "markdown",
   "id": "f3e0e46c-544b-4ce2-b7a6-d1e2065110b3",
   "metadata": {},
   "source": [
    "This will convert 200 minutes to hours by diving by 60"
   ]
  },
  {
   "cell_type": "code",
   "execution_count": 13,
   "id": "2743ed3a-637b-400f-bb7c-2ac70f3eb3b8",
   "metadata": {
    "tags": []
   },
   "outputs": [
    {
     "name": "stdout",
     "output_type": "stream",
     "text": [
      "0 days, 3.3333333333333335 hours, 0 mins. \n"
     ]
    }
   ],
   "source": [
    "days = 0\n",
    "hours = 0\n",
    "mins = 0\n",
    "\n",
    "time = 200\n",
    "#days = time / 1440\n",
    "leftover_minutes = time % 1440\n",
    "hours = leftover_minutes / 60\n",
    "#mins = time - (days*1440) - (hours*60)\n",
    "print(str(days) + \" days, \" + str(hours) + \" hours, \" + str(mins) +  \" mins. \")\n",
    "\n",
    "# Result: 3.3333333333333335 hours"
   ]
  },
  {
   "cell_type": "markdown",
   "id": "66b111c7-3c68-4331-93c5-198f66116722",
   "metadata": {},
   "source": [
    "<strong>Here are the key points I learned from this project:</strong>\n",
    "1. How to use jupyter notebook\n",
    "2. Some basic python syntax\n",
    "3. Drawing syntax of R language"
   ]
  },
  {
   "cell_type": "markdown",
   "id": "e9f01d17-d09e-4dd4-ba1c-80326038b57a",
   "metadata": {},
   "source": [
    "<h2>Author:</h2> Weifa Cheng"
   ]
  },
  {
   "cell_type": "code",
   "execution_count": null,
   "id": "c44efa39-29d5-4713-a2ea-c0e934a8e1a3",
   "metadata": {},
   "outputs": [],
   "source": []
  },
  {
   "cell_type": "code",
   "execution_count": null,
   "id": "a9e25495-2887-40a1-bec1-33923f180df4",
   "metadata": {},
   "outputs": [],
   "source": []
  },
  {
   "cell_type": "code",
   "execution_count": null,
   "id": "1c249a58-bfda-402c-8523-5115d6da986d",
   "metadata": {},
   "outputs": [],
   "source": []
  },
  {
   "cell_type": "code",
   "execution_count": null,
   "id": "a048fbe9-0c1b-49a5-a03f-ff8d52462f5e",
   "metadata": {},
   "outputs": [],
   "source": []
  },
  {
   "cell_type": "code",
   "execution_count": null,
   "id": "246927ab-87c1-4201-b7e9-f9f623d11378",
   "metadata": {},
   "outputs": [],
   "source": []
  },
  {
   "cell_type": "code",
   "execution_count": null,
   "id": "4ef003ae-edd5-4485-aaa8-9042d1904e04",
   "metadata": {},
   "outputs": [],
   "source": []
  },
  {
   "cell_type": "code",
   "execution_count": null,
   "id": "eba5ee44-c6ab-4ac2-9096-f2a59655f213",
   "metadata": {},
   "outputs": [],
   "source": []
  },
  {
   "cell_type": "code",
   "execution_count": null,
   "id": "d7c621a0-6919-4c9a-ac07-6fc16c7a615b",
   "metadata": {},
   "outputs": [],
   "source": []
  },
  {
   "cell_type": "code",
   "execution_count": null,
   "id": "a77a18e6-ed97-472b-b7cf-c31ecb57149a",
   "metadata": {},
   "outputs": [],
   "source": []
  },
  {
   "cell_type": "code",
   "execution_count": null,
   "id": "e89f23cf-acd8-4307-8fcd-da184f9aae89",
   "metadata": {},
   "outputs": [],
   "source": []
  },
  {
   "cell_type": "code",
   "execution_count": null,
   "id": "1ce44f87-ab96-4b10-9c1b-33d44409f4c7",
   "metadata": {},
   "outputs": [],
   "source": []
  },
  {
   "cell_type": "code",
   "execution_count": null,
   "id": "3a6df535-eece-4a8f-ad8f-fe286f086fa2",
   "metadata": {},
   "outputs": [],
   "source": []
  },
  {
   "cell_type": "code",
   "execution_count": null,
   "id": "34deae63-f23a-4a53-84fa-a79ff874b422",
   "metadata": {},
   "outputs": [],
   "source": []
  },
  {
   "cell_type": "code",
   "execution_count": null,
   "id": "5254487b-bdd3-421c-acf4-059b19b22f23",
   "metadata": {},
   "outputs": [],
   "source": []
  },
  {
   "cell_type": "code",
   "execution_count": null,
   "id": "f03dfffc-fd8c-472d-a665-d5d4309fe9ad",
   "metadata": {},
   "outputs": [],
   "source": []
  },
  {
   "cell_type": "code",
   "execution_count": null,
   "id": "ce200505-9828-4b12-9eb1-b788d0b3809f",
   "metadata": {},
   "outputs": [],
   "source": []
  }
 ],
 "metadata": {
  "kernelspec": {
   "display_name": "Python",
   "language": "python",
   "name": "conda-env-python-py"
  },
  "language_info": {
   "codemirror_mode": {
    "name": "ipython",
    "version": 3
   },
   "file_extension": ".py",
   "mimetype": "text/x-python",
   "name": "python",
   "nbconvert_exporter": "python",
   "pygments_lexer": "ipython3",
   "version": "3.7.12"
  }
 },
 "nbformat": 4,
 "nbformat_minor": 5
}
